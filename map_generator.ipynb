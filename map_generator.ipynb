{
 "cells": [
  {
   "cell_type": "code",
   "execution_count": 2,
   "metadata": {},
   "outputs": [],
   "source": [
    "class bcolors:\n",
    "    HEADER = '\\033[95m'\n",
    "    OKBLUE = '\\033[94m'\n",
    "    OKCYAN = '\\033[96m'\n",
    "    OKGREEN = '\\033[92m'\n",
    "    WARNING = '\\033[93m'\n",
    "    FAIL = '\\033[91m'\n",
    "    ENDC = '\\033[0m'\n",
    "    BOLD = '\\033[1m'\n",
    "    UNDERLINE = '\\033[4m'\n",
    "\n",
    "def color_string(order, s : str):\n",
    "    if order in [6, 8]:\n",
    "        return bcolors.FAIL + s + bcolors.ENDC\n",
    "    else:\n",
    "        return s"
   ]
  },
  {
   "cell_type": "code",
   "execution_count": 4,
   "metadata": {},
   "outputs": [],
   "source": [
    "from typing import List\n",
    "class Gift:\n",
    "    odds = {\n",
    "        2 : 1,\n",
    "        3 : 2,\n",
    "        4 : 3,\n",
    "        5 : 4,\n",
    "        6 : 5,\n",
    "        8 : 5,\n",
    "        9 : 4,\n",
    "        10 : 3,\n",
    "        11 : 2,\n",
    "        12 : 1\n",
    "    }\n",
    "    \n",
    "    types = {\n",
    "        \"Tree\",\n",
    "        \"Grain\",\n",
    "        \"Steal\",\n",
    "        \"Sheep\",\n",
    "        \"Ground\"\n",
    "    }\n",
    "    \n",
    "    def __init__(self, order, number, type):\n",
    "        assert(number in Gift.odds.keys())\n",
    "        assert(type in Gift.types.keys())\n",
    "        \n",
    "        self.number = number\n",
    "        self.gift_type = type\n",
    "        self.neighbors : List[Gift] = []"
   ]
  },
  {
   "cell_type": "code",
   "execution_count": 42,
   "metadata": {},
   "outputs": [],
   "source": [
    "from re import I\n",
    "import matplotlib.pyplot as plt\n",
    "from matplotlib.patches import RegularPolygon\n",
    "import numpy as np\n",
    "\n",
    "class Board:\n",
    "    def __init__(self, size: int):\n",
    "        assert(size % 2 != 0)\n",
    "        self.size = size\n",
    "        # y = 0 -> y +- 1 -> y +- 2 ... -> y = size // 2\n",
    "        # s = size -> s = size -1 -> ... -> s = size - size // 2 \n",
    "    \n",
    "    def draw(self):\n",
    "\n",
    "        # How to change hexagon coordinates -> 2-d coordinates\n",
    "        centroids = []\n",
    "        radius = np.sqrt(1/3)\n",
    "        for i in range(self.size//2+1):\n",
    "            s, y = self.size - i, i * 3/2 * radius\n",
    "            \n",
    "            start_x = -(self.size//2 + 0.5)\n",
    "            if i > 0:\n",
    "                start_x = centroids[-1][0]\n",
    "            \n",
    "            if i % 2 == 0:\n",
    "                for i in range(s):\n",
    "                    x = start_x + 0.5 + i\n",
    "                    centroids.append((x, y))\n",
    "                    if y != 0:\n",
    "                        centroids.append((x, -y))\n",
    "            else:\n",
    "                for i in range(s):\n",
    "                    x = start_x - 0.5 - i\n",
    "                    centroids.append((x, y))\n",
    "                    if y != 0:\n",
    "                        centroids.append((x, -y))\n",
    "                    \n",
    "        fig, ax = plt.subplots(1)\n",
    "        ax.set_aspect('equal')\n",
    "\n",
    "        for c in centroids:\n",
    "            hex = RegularPolygon((c[0], c[1]), numVertices=6, radius=radius, alpha=1, edgecolor='k')\n",
    "            ax.add_patch(hex)\n",
    "            \n",
    "        plt.autoscale(enable = True)\n",
    "        plt.show()\n",
    "\n",
    "    def generate(self):\n",
    "        pass\n",
    "    \n",
    "class FogIsland(Board):\n",
    "    def __init__(self):\n",
    "        pass\n",
    "    \n",
    "    def generate(self):\n",
    "        pass"
   ]
  },
  {
   "cell_type": "code",
   "execution_count": 43,
   "metadata": {},
   "outputs": [
    {
     "data": {
      "image/png": "[encoded data removed]",
      "text/plain": [
       "<Figure size 432x288 with 1 Axes>"
      ]
     },
     "metadata": {
      "needs_background": "light"
     },
     "output_type": "display_data"
    }
   ],
   "source": [
    "catan = Board(7)\n",
    "catan.draw()"
   ]
  }
 ],
 "metadata": {
  "interpreter": {
   "hash": "0aaec1f9b3fc2f791165a687639d2cef45eb4c993ee83e9a26de4e87e6dd7364"
  },
  "kernelspec": {
   "display_name": "Python 3.8.12 64-bit ('damoa-env': conda)",
   "language": "python",
   "name": "python3"
  },
  "language_info": {
   "codemirror_mode": {
    "name": "ipython",
    "version": 3
   },
   "file_extension": ".py",
   "mimetype": "text/x-python",
   "name": "python",
   "nbconvert_exporter": "python",
   "pygments_lexer": "ipython3",
   "version": "3.8.12"
  },
  "orig_nbformat": 4
 },
 "nbformat": 4,
 "nbformat_minor": 2
}
