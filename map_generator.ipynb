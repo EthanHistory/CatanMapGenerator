{
 "cells": [
  {
   "cell_type": "code",
   "execution_count": 2,
   "metadata": {},
   "outputs": [],
   "source": [
    "class bcolors:\n",
    "    HEADER = '\\033[95m'\n",
    "    OKBLUE = '\\033[94m'\n",
    "    OKCYAN = '\\033[96m'\n",
    "    OKGREEN = '\\033[92m'\n",
    "    WARNING = '\\033[93m'\n",
    "    FAIL = '\\033[91m'\n",
    "    ENDC = '\\033[0m'\n",
    "    BOLD = '\\033[1m'\n",
    "    UNDERLINE = '\\033[4m'\n",
    "\n",
    "def color_string(order, s : str):\n",
    "    if order in [6, 8]:\n",
    "        return bcolors.FAIL + s + bcolors.ENDC\n",
    "    else:\n",
    "        return s"
   ]
  },
  {
   "cell_type": "code",
   "execution_count": 6,
   "metadata": {},
   "outputs": [],
   "source": [
    "from typing import List\n",
    "from enum import Enum\n",
    "\n",
    "class ResourceType(Enum):\n",
    "    Tree = 1\n",
    "    Grain = 2\n",
    "    Steal = 3\n",
    "    Sheep = 4\n",
    "    Ground = 5\n",
    "    Sea = 6\n",
    "    UnCharted = 7\n",
    "    OutOfRange = 8\n",
    "    \n",
    "class Gift:\n",
    "    odds = {\n",
    "        -1 : 0,\n",
    "        2 : 1,\n",
    "        3 : 2,\n",
    "        4 : 3,\n",
    "        5 : 4,\n",
    "        6 : 5,\n",
    "        8 : 5,\n",
    "        9 : 4,\n",
    "        10 : 3,\n",
    "        11 : 2,\n",
    "        12 : 1\n",
    "    }\n",
    "    \n",
    "    def __init__(self, number: int=-1, type: ResourceType=ResourceType.OutOfRange):\n",
    "        assert(number in Gift.odds.keys())\n",
    "        \n",
    "        self.number = number\n",
    "        self.type = type\n",
    "        self.neighbors : List[Gift] = []\n",
    "        self.harbors : List[ResourceType] = []\n",
    "    "
   ]
  },
  {
   "cell_type": "code",
   "execution_count": 7,
   "metadata": {},
   "outputs": [],
   "source": [
    "from re import I\n",
    "import matplotlib.pyplot as plt\n",
    "from matplotlib.patches import RegularPolygon\n",
    "import numpy as np\n",
    "\n",
    "class Board:\n",
    "    radius = np.sqrt(1/3)\n",
    "    def __init__(self, size: int):\n",
    "        assert(size % 2 != 0)\n",
    "        self.size = size\n",
    "        self.gifts = {}\n",
    "        self.corners = {}    \n",
    "        \n",
    "        self.__initialize_hex_map__()\n",
    "        \n",
    "    def __initialize_hex_map__(self) -> None:\n",
    "        centroids = []\n",
    "        for i in range(self.size//2+1):\n",
    "            s, y = self.size - i, i * 3/2 * Board.radius\n",
    "            \n",
    "            start_x = -(self.size//2 + 0.5)\n",
    "            if i > 0:\n",
    "                start_x = centroids[-1][0]\n",
    "            \n",
    "            if i % 2 == 0:\n",
    "                for i in range(s):\n",
    "                    x = start_x + 0.5 + i\n",
    "                    centroids.append((x, y))\n",
    "                    if y != 0:\n",
    "                        centroids.append((x, -y))\n",
    "            else:\n",
    "                for i in range(s):\n",
    "                    x = start_x - 0.5 - i\n",
    "                    centroids.append((x, y))\n",
    "                    if y != 0:\n",
    "                        centroids.append((x, -y))\n",
    "\n",
    "        for x, y in centroids:\n",
    "            self.gifts[(x, y)] = Gift()\n",
    "        return None\n",
    "    \n",
    "    def draw(self):\n",
    "        fig, ax = plt.subplots(1)\n",
    "        ax.set_aspect('equal')\n",
    "\n",
    "        for x, y in self.gifts.keys():\n",
    "            hex = RegularPolygon((x, y), numVertices=6, radius=Board.radius, alpha=1, edgecolor='k')\n",
    "            ax.add_patch(hex)\n",
    "            \n",
    "        plt.autoscale(enable = True)\n",
    "        plt.show()\n",
    "\n",
    "    def generate(self):\n",
    "        pass\n",
    "    \n",
    "class FogIsland(Board):\n",
    "    def __init__(self):\n",
    "        pass\n",
    "    \n",
    "    def generate(self):\n",
    "        pass"
   ]
  },
  {
   "cell_type": "code",
   "execution_count": 10,
   "metadata": {},
   "outputs": [
    {
     "data": {
      "image/png": "[encoded data removed]",
      "text/plain": [
       "<Figure size 432x288 with 1 Axes>"
      ]
     },
     "metadata": {
      "needs_background": "light"
     },
     "output_type": "display_data"
    }
   ],
   "source": [
    "catan = Board(7)\n",
    "catan.draw()"
   ]
  },
  {
   "cell_type": "code",
   "execution_count": null,
   "metadata": {},
   "outputs": [],
   "source": []
  }
 ],
 "metadata": {
  "interpreter": {
   "hash": "0aaec1f9b3fc2f791165a687639d2cef45eb4c993ee83e9a26de4e87e6dd7364"
  },
  "kernelspec": {
   "display_name": "Python 3.8.12 64-bit ('damoa-env': conda)",
   "language": "python",
   "name": "python3"
  },
  "language_info": {
   "codemirror_mode": {
    "name": "ipython",
    "version": 3
   },
   "file_extension": ".py",
   "mimetype": "text/x-python",
   "name": "python",
   "nbconvert_exporter": "python",
   "pygments_lexer": "ipython3",
   "version": "3.8.12"
  },
  "orig_nbformat": 4
 },
 "nbformat": 4,
 "nbformat_minor": 2
}
